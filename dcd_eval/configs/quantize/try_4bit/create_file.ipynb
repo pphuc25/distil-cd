{
 "cells": [
  {
   "cell_type": "code",
   "execution_count": 4,
   "metadata": {},
   "outputs": [
    {
     "name": "stdout",
     "output_type": "stream",
     "text": [
      "Created file: 4bit_gsm8k_500_csprompt_v4-beta01.sh\n",
      "Created file: 4bit_gsm8k_500_csprompt_v4-beta02.sh\n",
      "Created file: 4bit_gsm8k_500_csprompt_v4-beta03.sh\n",
      "Created file: 4bit_gsm8k_500_csprompt_v4-beta04.sh\n",
      "Created file: 4bit_gsm8k_500_csprompt_v4-beta05.sh\n",
      "Created file: 4bit_gsm8k_500_csprompt_v4-beta06.sh\n",
      "Created file: 4bit_gsm8k_500_csprompt_v4-beta07.sh\n",
      "Created file: 4bit_gsm8k_500_csprompt_v4-beta08.sh\n",
      "Created file: 4bit_gsm8k_500_csprompt_v4-beta09.sh\n",
      "All bash script files have been created.\n"
     ]
    }
   ],
   "source": [
    "import os\n",
    "\n",
    "# Base content of the bash script\n",
    "base_content = \"\"\"#!/bin/bash\n",
    "python3 src/run_generation.py \\\\\n",
    "    --model_name_or_path meta-llama/Llama-2-7b-hf \\\\\n",
    "    --max_new_tokens 256 \\\\\n",
    "    --prompt_file gsm8k_500 \\\\\n",
    "    --outfile outputs/quantize_gsm8k_500_llama2-7b_csprompt_v4-beta{beta_name}.json \\\\\n",
    "    --cot_flag \\\\\n",
    "    --constractive_prompt_student 4 \\\\\n",
    "    --enable_flash_attn2 \\\\\n",
    "    --beta_coef {beta} \\\\\n",
    "    --quantize_4bit_student\n",
    "\"\"\"\n",
    "\n",
    "# Directory to save the bash files\n",
    "directory = './'  # Update this with the correct directory path\n",
    "# os.makedirs(directory, exist_ok=True)\n",
    "\n",
    "# Create files for each beta value\n",
    "for beta in range(1, 10):\n",
    "    beta_value = beta / 10\n",
    "    filename = f\"4bit_gsm8k_500_csprompt_v4-beta0{beta}.sh\"\n",
    "    file_path = os.path.join(directory, filename)\n",
    "\n",
    "    # Write the contents to the file\n",
    "    with open(file_path, 'w') as file:\n",
    "        file.write(base_content.format(beta=beta_value, beta_name=f\"0{beta}\"))\n",
    "\n",
    "    # Make the file executable\n",
    "    os.chmod(file_path, 0o755)\n",
    "\n",
    "    print(f\"Created file: {filename}\")\n",
    "\n",
    "print(\"All bash script files have been created.\")\n"
   ]
  }
 ],
 "metadata": {
  "kernelspec": {
   "display_name": "AI",
   "language": "python",
   "name": "python3"
  },
  "language_info": {
   "codemirror_mode": {
    "name": "ipython",
    "version": 3
   },
   "file_extension": ".py",
   "mimetype": "text/x-python",
   "name": "python",
   "nbconvert_exporter": "python",
   "pygments_lexer": "ipython3",
   "version": "3.9.16"
  }
 },
 "nbformat": 4,
 "nbformat_minor": 2
}
