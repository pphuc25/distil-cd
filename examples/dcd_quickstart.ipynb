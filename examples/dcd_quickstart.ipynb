{
  "cells": [
    {
      "cell_type": "markdown",
      "id": "c1415c86-c111-4197-a3fe-2c8903bdaa4f",
      "metadata": {
        "tags": [],
        "id": "c1415c86-c111-4197-a3fe-2c8903bdaa4f"
      },
      "source": [
        "# Distillation Contrastive Decoding: Improving LLMs Reasoning with Contrastive Decoding and Distillation\n",
        "\n",
        "TL;DR: Distillation Contrastive Decoding work introduces an innovative decoding approach that enhances language model reasoning by leveraging the concept of contrastive decoding (Innovates upon the traditional contrastive decoding and Chain-of-Thought (CoT) prompting methods). It operates by contrasting the logits from a expert model (Answer right) with Amateur model (Answer wrong). Notably, both models are the same.\n",
        "\n",
        "<p align=\"center\"><img src=\"https://github.com/pphuc25/distil-cd/blob/main/assets/figure1-method.jpg?raw=true\" width=\"800\"></p>\n",
        "\n",
        "**Resources**:\n",
        "<!-- - Read our paper on [arXiv](#) for a deep dive into our methodology. -->\n",
        "- Explore the codebase and contribute on GitHub: [distil-cd](https://github.com/pphuc25/distil-cd/tree/main).\n",
        "<!-- - Join the conversation on Twitter: [Twitter Discussion](#). -->\n",
        "\n",
        "> **Access Requirement**: The following demonstration employs the [Gemma 2b model by Google](https://huggingface.co/google/gemma-2b), which requires authorized access. Please ensure you have the necessary permissions on Hugging Face to interact with the model before proceeding."
      ]
    },
    {
      "cell_type": "markdown",
      "id": "d60c4d42-2a47-4cb1-ae78-8cbb1054b5f1",
      "metadata": {
        "id": "d60c4d42-2a47-4cb1-ae78-8cbb1054b5f1"
      },
      "source": [
        "## Login HuggingFace"
      ]
    },
    {
      "cell_type": "code",
      "execution_count": 1,
      "id": "50b99b6e-fd84-413c-9afd-99c60e0c792a",
      "metadata": {
        "colab": {
          "base_uri": "https://localhost:8080/"
        },
        "id": "50b99b6e-fd84-413c-9afd-99c60e0c792a",
        "outputId": "88be8fcd-07ed-46f1-eaaf-35bc62664127"
      },
      "outputs": [
        {
          "output_type": "stream",
          "name": "stdout",
          "text": [
            "\n",
            "    _|    _|  _|    _|    _|_|_|    _|_|_|  _|_|_|  _|      _|    _|_|_|      _|_|_|_|    _|_|      _|_|_|  _|_|_|_|\n",
            "    _|    _|  _|    _|  _|        _|          _|    _|_|    _|  _|            _|        _|    _|  _|        _|\n",
            "    _|_|_|_|  _|    _|  _|  _|_|  _|  _|_|    _|    _|  _|  _|  _|  _|_|      _|_|_|    _|_|_|_|  _|        _|_|_|\n",
            "    _|    _|  _|    _|  _|    _|  _|    _|    _|    _|    _|_|  _|    _|      _|        _|    _|  _|        _|\n",
            "    _|    _|    _|_|      _|_|_|    _|_|_|  _|_|_|  _|      _|    _|_|_|      _|        _|    _|    _|_|_|  _|_|_|_|\n",
            "\n",
            "    A token is already saved on your machine. Run `huggingface-cli whoami` to get more information or `huggingface-cli logout` if you want to log out.\n",
            "    Setting a new token will erase the existing one.\n",
            "    To login, `huggingface_hub` requires a token generated from https://huggingface.co/settings/tokens .\n",
            "Token: \n",
            "Add token as git credential? (Y/n) Y\n",
            "Token is valid (permission: write).\n",
            "\u001b[1m\u001b[31mCannot authenticate through git-credential as no helper is defined on your machine.\n",
            "You might have to re-authenticate when pushing to the Hugging Face Hub.\n",
            "Run the following command in your terminal in case you want to set the 'store' credential helper as default.\n",
            "\n",
            "git config --global credential.helper store\n",
            "\n",
            "Read https://git-scm.com/book/en/v2/Git-Tools-Credential-Storage for more details.\u001b[0m\n",
            "Token has not been saved to git credential helper.\n",
            "Your token has been saved to /root/.cache/huggingface/token\n",
            "Login successful\n"
          ]
        }
      ],
      "source": [
        "!huggingface-cli login"
      ]
    },
    {
      "cell_type": "markdown",
      "id": "889324b3-e9be-47c0-a2e8-9635c9750b02",
      "metadata": {
        "id": "889324b3-e9be-47c0-a2e8-9635c9750b02"
      },
      "source": [
        "## Environment Setup\n",
        "\n",
        "1. Git clone our repo\n",
        "2. Install the customized transformers package (which supports a our new decoding method)\n",
        "3. Install other requirements from pip (upgrade transformers upto date to apply newest mdoel"
      ]
    },
    {
      "cell_type": "code",
      "execution_count": 2,
      "id": "be0bc953-aa19-4a73-b8d7-c25d91587073",
      "metadata": {
        "scrolled": true,
        "tags": [],
        "colab": {
          "base_uri": "https://localhost:8080/"
        },
        "id": "be0bc953-aa19-4a73-b8d7-c25d91587073",
        "outputId": "766c056f-e1a4-4aeb-a917-23894183123a"
      },
      "outputs": [
        {
          "output_type": "stream",
          "name": "stdout",
          "text": [
            "Cloning into 'distil-cd'...\n",
            "remote: Enumerating objects: 610, done.\u001b[K\n",
            "remote: Counting objects: 100% (610/610), done.\u001b[K\n",
            "remote: Compressing objects: 100% (131/131), done.\u001b[K\n",
            "remote: Total 610 (delta 489), reused 592 (delta 472), pack-reused 0\u001b[K\n",
            "Receiving objects: 100% (610/610), 1.39 MiB | 21.27 MiB/s, done.\n",
            "Resolving deltas: 100% (489/489), done.\n",
            "Obtaining file:///content/distil-cd\n",
            "  Installing build dependencies ... \u001b[?25l\u001b[?25hdone\n",
            "  Checking if build backend supports build_editable ... \u001b[?25l\u001b[?25hdone\n",
            "  Getting requirements to build editable ... \u001b[?25l\u001b[?25hdone\n",
            "  Installing backend dependencies ... \u001b[?25l\u001b[?25hdone\n",
            "  Preparing editable metadata (pyproject.toml) ... \u001b[?25l\u001b[?25hdone\n",
            "Requirement already satisfied: transformers in /usr/local/lib/python3.10/dist-packages (from dcd==0.0.1) (4.38.1)\n",
            "Requirement already satisfied: accelerate in /usr/local/lib/python3.10/dist-packages (from dcd==0.0.1) (0.27.2)\n",
            "Requirement already satisfied: jsonlines in /usr/local/lib/python3.10/dist-packages (from dcd==0.0.1) (4.0.0)\n",
            "Requirement already satisfied: pandas in /usr/local/lib/python3.10/dist-packages (from dcd==0.0.1) (1.5.3)\n",
            "Requirement already satisfied: numpy>=1.17 in /usr/local/lib/python3.10/dist-packages (from accelerate->dcd==0.0.1) (1.25.2)\n",
            "Requirement already satisfied: packaging>=20.0 in /usr/local/lib/python3.10/dist-packages (from accelerate->dcd==0.0.1) (23.2)\n",
            "Requirement already satisfied: psutil in /usr/local/lib/python3.10/dist-packages (from accelerate->dcd==0.0.1) (5.9.5)\n",
            "Requirement already satisfied: pyyaml in /usr/local/lib/python3.10/dist-packages (from accelerate->dcd==0.0.1) (6.0.1)\n",
            "Requirement already satisfied: torch>=1.10.0 in /usr/local/lib/python3.10/dist-packages (from accelerate->dcd==0.0.1) (2.1.0+cu121)\n",
            "Requirement already satisfied: huggingface-hub in /usr/local/lib/python3.10/dist-packages (from accelerate->dcd==0.0.1) (0.20.3)\n",
            "Requirement already satisfied: safetensors>=0.3.1 in /usr/local/lib/python3.10/dist-packages (from accelerate->dcd==0.0.1) (0.4.2)\n",
            "Requirement already satisfied: attrs>=19.2.0 in /usr/local/lib/python3.10/dist-packages (from jsonlines->dcd==0.0.1) (23.2.0)\n",
            "Requirement already satisfied: python-dateutil>=2.8.1 in /usr/local/lib/python3.10/dist-packages (from pandas->dcd==0.0.1) (2.8.2)\n",
            "Requirement already satisfied: pytz>=2020.1 in /usr/local/lib/python3.10/dist-packages (from pandas->dcd==0.0.1) (2023.4)\n",
            "Requirement already satisfied: filelock in /usr/local/lib/python3.10/dist-packages (from transformers->dcd==0.0.1) (3.13.1)\n",
            "Requirement already satisfied: regex!=2019.12.17 in /usr/local/lib/python3.10/dist-packages (from transformers->dcd==0.0.1) (2023.12.25)\n",
            "Requirement already satisfied: requests in /usr/local/lib/python3.10/dist-packages (from transformers->dcd==0.0.1) (2.31.0)\n",
            "Requirement already satisfied: tokenizers<0.19,>=0.14 in /usr/local/lib/python3.10/dist-packages (from transformers->dcd==0.0.1) (0.15.2)\n",
            "Requirement already satisfied: tqdm>=4.27 in /usr/local/lib/python3.10/dist-packages (from transformers->dcd==0.0.1) (4.66.2)\n",
            "Requirement already satisfied: fsspec>=2023.5.0 in /usr/local/lib/python3.10/dist-packages (from huggingface-hub->accelerate->dcd==0.0.1) (2023.6.0)\n",
            "Requirement already satisfied: typing-extensions>=3.7.4.3 in /usr/local/lib/python3.10/dist-packages (from huggingface-hub->accelerate->dcd==0.0.1) (4.9.0)\n",
            "Requirement already satisfied: six>=1.5 in /usr/local/lib/python3.10/dist-packages (from python-dateutil>=2.8.1->pandas->dcd==0.0.1) (1.16.0)\n",
            "Requirement already satisfied: sympy in /usr/local/lib/python3.10/dist-packages (from torch>=1.10.0->accelerate->dcd==0.0.1) (1.12)\n",
            "Requirement already satisfied: networkx in /usr/local/lib/python3.10/dist-packages (from torch>=1.10.0->accelerate->dcd==0.0.1) (3.2.1)\n",
            "Requirement already satisfied: jinja2 in /usr/local/lib/python3.10/dist-packages (from torch>=1.10.0->accelerate->dcd==0.0.1) (3.1.3)\n",
            "Requirement already satisfied: triton==2.1.0 in /usr/local/lib/python3.10/dist-packages (from torch>=1.10.0->accelerate->dcd==0.0.1) (2.1.0)\n",
            "Requirement already satisfied: charset-normalizer<4,>=2 in /usr/local/lib/python3.10/dist-packages (from requests->transformers->dcd==0.0.1) (3.3.2)\n",
            "Requirement already satisfied: idna<4,>=2.5 in /usr/local/lib/python3.10/dist-packages (from requests->transformers->dcd==0.0.1) (3.6)\n",
            "Requirement already satisfied: urllib3<3,>=1.21.1 in /usr/local/lib/python3.10/dist-packages (from requests->transformers->dcd==0.0.1) (2.0.7)\n",
            "Requirement already satisfied: certifi>=2017.4.17 in /usr/local/lib/python3.10/dist-packages (from requests->transformers->dcd==0.0.1) (2024.2.2)\n",
            "Requirement already satisfied: MarkupSafe>=2.0 in /usr/local/lib/python3.10/dist-packages (from jinja2->torch>=1.10.0->accelerate->dcd==0.0.1) (2.1.5)\n",
            "Requirement already satisfied: mpmath>=0.19 in /usr/local/lib/python3.10/dist-packages (from sympy->torch>=1.10.0->accelerate->dcd==0.0.1) (1.3.0)\n",
            "Building wheels for collected packages: dcd\n",
            "  Building editable for dcd (pyproject.toml) ... \u001b[?25l\u001b[?25hdone\n",
            "  Created wheel for dcd: filename=dcd-0.0.1-0.editable-py3-none-any.whl size=1195 sha256=5d2b3c2cfac4a2a491ea828737d352705c93ef9e20464232302e56eb50e41d51\n",
            "  Stored in directory: /tmp/pip-ephem-wheel-cache-id0pbqho/wheels/a9/98/37/3a4ec2e7f30453732406a800d18cdb85a61a62235fc1eb1b72\n",
            "Successfully built dcd\n",
            "Installing collected packages: dcd\n",
            "  Attempting uninstall: dcd\n",
            "    Found existing installation: dcd 0.0.1\n",
            "    Uninstalling dcd-0.0.1:\n",
            "      Successfully uninstalled dcd-0.0.1\n",
            "Successfully installed dcd-0.0.1\n",
            "Requirement already satisfied: transformers in /usr/local/lib/python3.10/dist-packages (4.38.1)\n",
            "Requirement already satisfied: filelock in /usr/local/lib/python3.10/dist-packages (from transformers) (3.13.1)\n",
            "Requirement already satisfied: huggingface-hub<1.0,>=0.19.3 in /usr/local/lib/python3.10/dist-packages (from transformers) (0.20.3)\n",
            "Requirement already satisfied: numpy>=1.17 in /usr/local/lib/python3.10/dist-packages (from transformers) (1.25.2)\n",
            "Requirement already satisfied: packaging>=20.0 in /usr/local/lib/python3.10/dist-packages (from transformers) (23.2)\n",
            "Requirement already satisfied: pyyaml>=5.1 in /usr/local/lib/python3.10/dist-packages (from transformers) (6.0.1)\n",
            "Requirement already satisfied: regex!=2019.12.17 in /usr/local/lib/python3.10/dist-packages (from transformers) (2023.12.25)\n",
            "Requirement already satisfied: requests in /usr/local/lib/python3.10/dist-packages (from transformers) (2.31.0)\n",
            "Requirement already satisfied: tokenizers<0.19,>=0.14 in /usr/local/lib/python3.10/dist-packages (from transformers) (0.15.2)\n",
            "Requirement already satisfied: safetensors>=0.4.1 in /usr/local/lib/python3.10/dist-packages (from transformers) (0.4.2)\n",
            "Requirement already satisfied: tqdm>=4.27 in /usr/local/lib/python3.10/dist-packages (from transformers) (4.66.2)\n",
            "Requirement already satisfied: fsspec>=2023.5.0 in /usr/local/lib/python3.10/dist-packages (from huggingface-hub<1.0,>=0.19.3->transformers) (2023.6.0)\n",
            "Requirement already satisfied: typing-extensions>=3.7.4.3 in /usr/local/lib/python3.10/dist-packages (from huggingface-hub<1.0,>=0.19.3->transformers) (4.9.0)\n",
            "Requirement already satisfied: charset-normalizer<4,>=2 in /usr/local/lib/python3.10/dist-packages (from requests->transformers) (3.3.2)\n",
            "Requirement already satisfied: idna<4,>=2.5 in /usr/local/lib/python3.10/dist-packages (from requests->transformers) (3.6)\n",
            "Requirement already satisfied: urllib3<3,>=1.21.1 in /usr/local/lib/python3.10/dist-packages (from requests->transformers) (2.0.7)\n",
            "Requirement already satisfied: certifi>=2017.4.17 in /usr/local/lib/python3.10/dist-packages (from requests->transformers) (2024.2.2)\n"
          ]
        }
      ],
      "source": [
        "!git clone https://github.com/pphuc25/distil-cd.git\n",
        "!cd distil-cd && pip install -e .\n",
        "!pip install transformers -U"
      ]
    },
    {
      "cell_type": "markdown",
      "id": "06ffed07-a02f-411a-ae53-f0d0de4b32e9",
      "metadata": {
        "id": "06ffed07-a02f-411a-ae53-f0d0de4b32e9"
      },
      "source": [
        "### Register Decoding Method:\n",
        "\n",
        "**Troubleshooting Note**: If you encounter any issues executing this setup cell, please restart the runtime/kernel. This can resolve initial setup conflicts. To do so in Google Colab, go to the menu bar and select `Runtime` > `Restart session`, and then run this cell again."
      ]
    },
    {
      "cell_type": "code",
      "execution_count": 1,
      "id": "790bf973-604d-48ff-9e41-92b633e417e7",
      "metadata": {
        "id": "790bf973-604d-48ff-9e41-92b633e417e7"
      },
      "outputs": [],
      "source": [
        "# Registry DCD method\n",
        "from dcd import dcd_pipeline_registry\n",
        "dcd_pipeline_registry()"
      ]
    },
    {
      "cell_type": "markdown",
      "id": "cc3c362f-e3ee-4cb3-afe2-4b8ee6b86f66",
      "metadata": {
        "id": "cc3c362f-e3ee-4cb3-afe2-4b8ee6b86f66"
      },
      "source": [
        "## Getting started\n",
        "\n",
        "In this Google Colab example, we will utilize the [Gemma 2b model by Google](https://huggingface.co/google/gemma-2b) to showcase our methodologies. This interactive example will compare the performance differences between a standard greedy decoding approach and our Distillation Contrastive Decoding (DCD) method when applied Dropout on Amateur. Through this, we aim to provide a clear, comparative illustration of the efficacy of DCD in enhancing model reasoning."
      ]
    },
    {
      "cell_type": "markdown",
      "id": "243cc63d-1dfd-4fc9-a970-58d3861c2e9e",
      "metadata": {
        "id": "243cc63d-1dfd-4fc9-a970-58d3861c2e9e"
      },
      "source": [
        "### Import Libraries and Load the Model"
      ]
    },
    {
      "cell_type": "code",
      "execution_count": 2,
      "id": "a05d44f4-b4c1-4fe5-802e-14096fff38ea",
      "metadata": {
        "id": "a05d44f4-b4c1-4fe5-802e-14096fff38ea"
      },
      "outputs": [],
      "source": [
        "from transformers import AutoModelForCausalLM, AutoTokenizer, GenerationConfig\n",
        "from dcd import set_stop_words, create_prompt, create_prompt_student\n",
        "import torch"
      ]
    },
    {
      "cell_type": "code",
      "execution_count": 3,
      "id": "3cbf3c62-fa26-4228-9517-1cfc9b15e0c0",
      "metadata": {
        "scrolled": true,
        "tags": [],
        "colab": {
          "base_uri": "https://localhost:8080/",
          "height": 49,
          "referenced_widgets": [
            "cc74972b762743dbb0dca58afb7d8c7d",
            "fa60b427352d459e87d58e0ef47b5d61",
            "4bf3d8b646044b5086f942483cd32758",
            "8f3a386367944534989cb61c3deed81e",
            "13a1d43802964e50aef9047cb26d9674",
            "3331ce5b57f0408eb9c4b4ed8b21836f",
            "2d98e5b0e03e4cf5918c361b33ebe505",
            "379fdff3ad22446a8f3e222e0b814268",
            "f39174588150498895534a0026865111",
            "fd13e46a5ffa4e9393fa43f5de3330c8",
            "27076055642a4bffa4dc7aa2b8cd50a9"
          ]
        },
        "id": "3cbf3c62-fa26-4228-9517-1cfc9b15e0c0",
        "outputId": "6893c1e3-3e47-49c6-b8d0-ea429f2f63b6"
      },
      "outputs": [
        {
          "output_type": "display_data",
          "data": {
            "text/plain": [
              "Loading checkpoint shards:   0%|          | 0/2 [00:00<?, ?it/s]"
            ],
            "application/vnd.jupyter.widget-view+json": {
              "version_major": 2,
              "version_minor": 0,
              "model_id": "cc74972b762743dbb0dca58afb7d8c7d"
            }
          },
          "metadata": {}
        }
      ],
      "source": [
        "model = AutoModelForCausalLM.from_pretrained(\"google/gemma-2b\", device_map=\"auto\")\n",
        "tokenizer = AutoTokenizer.from_pretrained(\"google/gemma-2b\", device_map=\"auto\")"
      ]
    },
    {
      "cell_type": "markdown",
      "id": "03dbb8c2-9645-4880-a768-899cc49b935a",
      "metadata": {
        "id": "03dbb8c2-9645-4880-a768-899cc49b935a"
      },
      "source": [
        "### Setup configs and question\n",
        "\n",
        "For using DCD, you must set the beam_size to 1, as it is a variant of the greedy method."
      ]
    },
    {
      "cell_type": "code",
      "execution_count": 4,
      "id": "d3370f05-3d7b-4b31-be38-896f482311a7",
      "metadata": {
        "colab": {
          "base_uri": "https://localhost:8080/"
        },
        "id": "d3370f05-3d7b-4b31-be38-896f482311a7",
        "outputId": "bc507381-4341-4973-8310-78ecd32d7b88"
      },
      "outputs": [
        {
          "output_type": "stream",
          "name": "stdout",
          "text": [
            "Added stop word:  Q: with the ids [235292]\n",
            "Added stop word:  \\end{code} with the ids [615, 235282, 2564, 235270]\n",
            "Added stop word:  </s> with the ids [235256, 235313]\n",
            "Added stop word:  Wrong explanation: with the ids [15844, 235292]\n"
          ]
        }
      ],
      "source": [
        "device = \"cuda\" if torch.cuda.is_available() else \"cpu\"\n",
        "\n",
        "beam_size = 1\n",
        "max_length = 250\n",
        "\n",
        "alpha_coef = 0.1\n",
        "beta_coef = 0.7\n",
        "dropout_rate = 0.2\n",
        "\n",
        "type_prompt = 4  # The synthetic demonstration prompt for arithmetic problems\n",
        "\n",
        "stopping_criteria = set_stop_words(tokenizer=tokenizer, stop_words=[\"Q:\", \"\\end{code}\", \"</s>\", \"Wrong explanation:\"])\n",
        "\n",
        "generation_config = GenerationConfig(\n",
        "    do_sample=False,\n",
        "    num_beams=beam_size,\n",
        "    pad_token_id=0,\n",
        "    eos_token_id=0,\n",
        ")\n",
        "\n",
        "class Args:\n",
        "    def __init__(self) -> None:\n",
        "        self.prompt_file = 'gsm8k'\n",
        "        self.data_name = \"gsm8k\"\n",
        "        self.cot_flag = True\n",
        "        self.direct_answer_trigger_for_fewshot = 'The answer is'\n",
        "\n",
        "args_prompt = Args()"
      ]
    },
    {
      "cell_type": "code",
      "execution_count": 5,
      "id": "111dbdce-fcd0-473e-9f5c-b37d2bb717df",
      "metadata": {
        "id": "111dbdce-fcd0-473e-9f5c-b37d2bb717df"
      },
      "outputs": [],
      "source": [
        "question = \"Josh decides to try flipping a house. He buys a house for $80,000 and then puts in $50,000 in repairs. This increased the value of the house by 150%. How much profit did he make?\""
      ]
    },
    {
      "cell_type": "markdown",
      "id": "4ea99214-16eb-4fc2-9220-eaeea176826d",
      "metadata": {
        "id": "4ea99214-16eb-4fc2-9220-eaeea176826d"
      },
      "source": [
        "### Greedy Version"
      ]
    },
    {
      "cell_type": "code",
      "execution_count": 6,
      "id": "01cb087c-6dfb-40f7-aab4-43e49bd36169",
      "metadata": {
        "id": "01cb087c-6dfb-40f7-aab4-43e49bd36169"
      },
      "outputs": [],
      "source": [
        "question_formated = \"Q: \" + question + \"\\n\" + \"A:\"\n",
        "inputs = tokenizer(create_prompt(args_prompt, data_name=args_prompt.data_name) + question_formated, return_tensors=\"pt\")\n",
        "input_ids = inputs[\"input_ids\"].to(device)"
      ]
    },
    {
      "cell_type": "code",
      "execution_count": 7,
      "id": "09bbcf7e-25d4-4f1e-9245-65b848f4edb3",
      "metadata": {
        "id": "09bbcf7e-25d4-4f1e-9245-65b848f4edb3"
      },
      "outputs": [],
      "source": [
        "inputs_args_greedy = dict(\n",
        "    generation_config=generation_config,\n",
        "    return_dict_in_generate=True,\n",
        "    output_scores=True,\n",
        "    max_new_tokens=max_length,\n",
        "    stopping_criteria=stopping_criteria,\n",
        "    min_tokens_to_keep=2 if beam_size > 1 else 1,\n",
        "    dropout_rate=dropout_rate\n",
        ")"
      ]
    },
    {
      "cell_type": "code",
      "execution_count": 8,
      "id": "2b8b89b1-f9f9-40a0-bd8c-0aa07d3fc7e5",
      "metadata": {
        "colab": {
          "base_uri": "https://localhost:8080/"
        },
        "id": "2b8b89b1-f9f9-40a0-bd8c-0aa07d3fc7e5",
        "outputId": "c8bc547a-b364-407a-bf3d-462441704524"
      },
      "outputs": [
        {
          "output_type": "stream",
          "name": "stdout",
          "text": [
            "Output of greedy: Josh bought the house for $80,000. Then he put in $50,000 in repairs. So the value of the house increased by 150%. 150% of $80,000 is 150/100 * 80,000 = 120,000. So the value of the house increased by 120,000. 80,000 + 120,000 = 200,000. The answer is 200,000.\n"
          ]
        }
      ],
      "source": [
        "output_sequences = model.generate(\n",
        "    input_ids=input_ids,\n",
        "    **inputs_args_greedy)\n",
        "\n",
        "s_greedy = output_sequences.sequences[0]\n",
        "output_greedy = tokenizer.decode(s_greedy, skip_special_tokens=True)\n",
        "\n",
        "output_formated_greedy = output_greedy.split(\"A: \")[-1].replace(\"\\n\\nQ:\", \"\")\n",
        "print(f\"Output of greedy: {output_formated_greedy}\")"
      ]
    },
    {
      "cell_type": "markdown",
      "id": "93298f7e-db54-48b4-9799-afbab6b76ad3",
      "metadata": {
        "id": "93298f7e-db54-48b4-9799-afbab6b76ad3"
      },
      "source": [
        "### Distillation Contrastive Decoding with Dropout Version"
      ]
    },
    {
      "cell_type": "code",
      "execution_count": 9,
      "id": "f9c7d475-ca7b-4f49-9b59-f376cfc0af6c",
      "metadata": {
        "id": "f9c7d475-ca7b-4f49-9b59-f376cfc0af6c"
      },
      "outputs": [],
      "source": [
        "question_formated = \"Q: \" + question + \"\\n\" + \"A:\"\n",
        "inputs = tokenizer(create_prompt(args_prompt, data_name=args_prompt.data_name) + question_formated, return_tensors=\"pt\")\n",
        "input_ids = inputs[\"input_ids\"].to(device)\n",
        "\n",
        "# Input ids and attention mask for amateur model\n",
        "inputs_student = tokenizer(create_prompt_student(args_prompt, type=type_prompt, data_name=args_prompt.data_name) + question_formated, return_tensors=\"pt\")\n",
        "input_ids_student = inputs_student[\"input_ids\"].to(device)\n",
        "attention_mask_student = inputs_student[\"attention_mask\"].to(device)"
      ]
    },
    {
      "cell_type": "code",
      "execution_count": 10,
      "id": "3cc433f6-9384-4407-849e-07ecaceb2f24",
      "metadata": {
        "id": "3cc433f6-9384-4407-849e-07ecaceb2f24"
      },
      "outputs": [],
      "source": [
        "inputs_args_dcd = dict(\n",
        "    generation_config=generation_config,\n",
        "    return_dict_in_generate=True,\n",
        "    output_scores=True,\n",
        "    max_new_tokens=max_length,\n",
        "    stopping_criteria=stopping_criteria,\n",
        "\n",
        "    # DCD parameters of dropout\n",
        "    alpha_coef=alpha_coef,\n",
        "    beta_coef=beta_coef,\n",
        "    min_tokens_to_keep=2 if beam_size > 1 else 1,\n",
        "    teacher_student=True,\n",
        "    dropout_rate=dropout_rate,\n",
        "\n",
        "    # Setting attention mask for amateur model\n",
        "    model_kwargs_student = dict(\n",
        "        attention_mask=attention_mask_student\n",
        "    )\n",
        ")"
      ]
    },
    {
      "cell_type": "code",
      "execution_count": 11,
      "id": "c5b1fc57-5a75-4161-a97b-66368d617330",
      "metadata": {
        "colab": {
          "base_uri": "https://localhost:8080/"
        },
        "id": "c5b1fc57-5a75-4161-a97b-66368d617330",
        "outputId": "431ab587-2768-43fb-dbfe-cf9f9235d4e2"
      },
      "outputs": [
        {
          "output_type": "stream",
          "name": "stdout",
          "text": [
            "Output of DCD: Josh started with 80,000 dollars. He spent 50,000 dollars on repairs. So he had 80,000 - 50,000 = 30,000 dollars left. Then the house was sold for 30,000 dollars more. 30,000 + 30,000 is 60,000. The answer is 60,000.\n"
          ]
        }
      ],
      "source": [
        "output_sequences = model.generate(\n",
        "    input_ids=input_ids,\n",
        "    input_ids_student=input_ids_student,\n",
        "    **inputs_args_dcd)\n",
        "\n",
        "s_dcd = output_sequences.sequences[0]\n",
        "output_dcd = tokenizer.decode(s_dcd, skip_special_tokens=True)\n",
        "output_formated_dcd = output_dcd.split(\"A: \")[-1].replace(\"\\n\\nQ:\", \"\")\n",
        "print(f\"Output of DCD: {output_formated_dcd}\")"
      ]
    }
  ],
  "metadata": {
    "kernelspec": {
      "display_name": "Python 3",
      "name": "python3"
    },
    "language_info": {
      "codemirror_mode": {
        "name": "ipython",
        "version": 3
      },
      "file_extension": ".py",
      "mimetype": "text/x-python",
      "name": "python",
      "nbconvert_exporter": "python",
      "pygments_lexer": "ipython3",
      "version": "3.9.16"
    },
    "colab": {
      "provenance": [],
      "gpuType": "T4"
    },
    "accelerator": "GPU",
    "widgets": {
      "application/vnd.jupyter.widget-state+json": {
        "cc74972b762743dbb0dca58afb7d8c7d": {
          "model_module": "@jupyter-widgets/controls",
          "model_name": "HBoxModel",
          "model_module_version": "1.5.0",
          "state": {
            "_dom_classes": [],
            "_model_module": "@jupyter-widgets/controls",
            "_model_module_version": "1.5.0",
            "_model_name": "HBoxModel",
            "_view_count": null,
            "_view_module": "@jupyter-widgets/controls",
            "_view_module_version": "1.5.0",
            "_view_name": "HBoxView",
            "box_style": "",
            "children": [
              "IPY_MODEL_fa60b427352d459e87d58e0ef47b5d61",
              "IPY_MODEL_4bf3d8b646044b5086f942483cd32758",
              "IPY_MODEL_8f3a386367944534989cb61c3deed81e"
            ],
            "layout": "IPY_MODEL_13a1d43802964e50aef9047cb26d9674"
          }
        },
        "fa60b427352d459e87d58e0ef47b5d61": {
          "model_module": "@jupyter-widgets/controls",
          "model_name": "HTMLModel",
          "model_module_version": "1.5.0",
          "state": {
            "_dom_classes": [],
            "_model_module": "@jupyter-widgets/controls",
            "_model_module_version": "1.5.0",
            "_model_name": "HTMLModel",
            "_view_count": null,
            "_view_module": "@jupyter-widgets/controls",
            "_view_module_version": "1.5.0",
            "_view_name": "HTMLView",
            "description": "",
            "description_tooltip": null,
            "layout": "IPY_MODEL_3331ce5b57f0408eb9c4b4ed8b21836f",
            "placeholder": "​",
            "style": "IPY_MODEL_2d98e5b0e03e4cf5918c361b33ebe505",
            "value": "Loading checkpoint shards: 100%"
          }
        },
        "4bf3d8b646044b5086f942483cd32758": {
          "model_module": "@jupyter-widgets/controls",
          "model_name": "FloatProgressModel",
          "model_module_version": "1.5.0",
          "state": {
            "_dom_classes": [],
            "_model_module": "@jupyter-widgets/controls",
            "_model_module_version": "1.5.0",
            "_model_name": "FloatProgressModel",
            "_view_count": null,
            "_view_module": "@jupyter-widgets/controls",
            "_view_module_version": "1.5.0",
            "_view_name": "ProgressView",
            "bar_style": "success",
            "description": "",
            "description_tooltip": null,
            "layout": "IPY_MODEL_379fdff3ad22446a8f3e222e0b814268",
            "max": 2,
            "min": 0,
            "orientation": "horizontal",
            "style": "IPY_MODEL_f39174588150498895534a0026865111",
            "value": 2
          }
        },
        "8f3a386367944534989cb61c3deed81e": {
          "model_module": "@jupyter-widgets/controls",
          "model_name": "HTMLModel",
          "model_module_version": "1.5.0",
          "state": {
            "_dom_classes": [],
            "_model_module": "@jupyter-widgets/controls",
            "_model_module_version": "1.5.0",
            "_model_name": "HTMLModel",
            "_view_count": null,
            "_view_module": "@jupyter-widgets/controls",
            "_view_module_version": "1.5.0",
            "_view_name": "HTMLView",
            "description": "",
            "description_tooltip": null,
            "layout": "IPY_MODEL_fd13e46a5ffa4e9393fa43f5de3330c8",
            "placeholder": "​",
            "style": "IPY_MODEL_27076055642a4bffa4dc7aa2b8cd50a9",
            "value": " 2/2 [00:16&lt;00:00,  6.79s/it]"
          }
        },
        "13a1d43802964e50aef9047cb26d9674": {
          "model_module": "@jupyter-widgets/base",
          "model_name": "LayoutModel",
          "model_module_version": "1.2.0",
          "state": {
            "_model_module": "@jupyter-widgets/base",
            "_model_module_version": "1.2.0",
            "_model_name": "LayoutModel",
            "_view_count": null,
            "_view_module": "@jupyter-widgets/base",
            "_view_module_version": "1.2.0",
            "_view_name": "LayoutView",
            "align_content": null,
            "align_items": null,
            "align_self": null,
            "border": null,
            "bottom": null,
            "display": null,
            "flex": null,
            "flex_flow": null,
            "grid_area": null,
            "grid_auto_columns": null,
            "grid_auto_flow": null,
            "grid_auto_rows": null,
            "grid_column": null,
            "grid_gap": null,
            "grid_row": null,
            "grid_template_areas": null,
            "grid_template_columns": null,
            "grid_template_rows": null,
            "height": null,
            "justify_content": null,
            "justify_items": null,
            "left": null,
            "margin": null,
            "max_height": null,
            "max_width": null,
            "min_height": null,
            "min_width": null,
            "object_fit": null,
            "object_position": null,
            "order": null,
            "overflow": null,
            "overflow_x": null,
            "overflow_y": null,
            "padding": null,
            "right": null,
            "top": null,
            "visibility": null,
            "width": null
          }
        },
        "3331ce5b57f0408eb9c4b4ed8b21836f": {
          "model_module": "@jupyter-widgets/base",
          "model_name": "LayoutModel",
          "model_module_version": "1.2.0",
          "state": {
            "_model_module": "@jupyter-widgets/base",
            "_model_module_version": "1.2.0",
            "_model_name": "LayoutModel",
            "_view_count": null,
            "_view_module": "@jupyter-widgets/base",
            "_view_module_version": "1.2.0",
            "_view_name": "LayoutView",
            "align_content": null,
            "align_items": null,
            "align_self": null,
            "border": null,
            "bottom": null,
            "display": null,
            "flex": null,
            "flex_flow": null,
            "grid_area": null,
            "grid_auto_columns": null,
            "grid_auto_flow": null,
            "grid_auto_rows": null,
            "grid_column": null,
            "grid_gap": null,
            "grid_row": null,
            "grid_template_areas": null,
            "grid_template_columns": null,
            "grid_template_rows": null,
            "height": null,
            "justify_content": null,
            "justify_items": null,
            "left": null,
            "margin": null,
            "max_height": null,
            "max_width": null,
            "min_height": null,
            "min_width": null,
            "object_fit": null,
            "object_position": null,
            "order": null,
            "overflow": null,
            "overflow_x": null,
            "overflow_y": null,
            "padding": null,
            "right": null,
            "top": null,
            "visibility": null,
            "width": null
          }
        },
        "2d98e5b0e03e4cf5918c361b33ebe505": {
          "model_module": "@jupyter-widgets/controls",
          "model_name": "DescriptionStyleModel",
          "model_module_version": "1.5.0",
          "state": {
            "_model_module": "@jupyter-widgets/controls",
            "_model_module_version": "1.5.0",
            "_model_name": "DescriptionStyleModel",
            "_view_count": null,
            "_view_module": "@jupyter-widgets/base",
            "_view_module_version": "1.2.0",
            "_view_name": "StyleView",
            "description_width": ""
          }
        },
        "379fdff3ad22446a8f3e222e0b814268": {
          "model_module": "@jupyter-widgets/base",
          "model_name": "LayoutModel",
          "model_module_version": "1.2.0",
          "state": {
            "_model_module": "@jupyter-widgets/base",
            "_model_module_version": "1.2.0",
            "_model_name": "LayoutModel",
            "_view_count": null,
            "_view_module": "@jupyter-widgets/base",
            "_view_module_version": "1.2.0",
            "_view_name": "LayoutView",
            "align_content": null,
            "align_items": null,
            "align_self": null,
            "border": null,
            "bottom": null,
            "display": null,
            "flex": null,
            "flex_flow": null,
            "grid_area": null,
            "grid_auto_columns": null,
            "grid_auto_flow": null,
            "grid_auto_rows": null,
            "grid_column": null,
            "grid_gap": null,
            "grid_row": null,
            "grid_template_areas": null,
            "grid_template_columns": null,
            "grid_template_rows": null,
            "height": null,
            "justify_content": null,
            "justify_items": null,
            "left": null,
            "margin": null,
            "max_height": null,
            "max_width": null,
            "min_height": null,
            "min_width": null,
            "object_fit": null,
            "object_position": null,
            "order": null,
            "overflow": null,
            "overflow_x": null,
            "overflow_y": null,
            "padding": null,
            "right": null,
            "top": null,
            "visibility": null,
            "width": null
          }
        },
        "f39174588150498895534a0026865111": {
          "model_module": "@jupyter-widgets/controls",
          "model_name": "ProgressStyleModel",
          "model_module_version": "1.5.0",
          "state": {
            "_model_module": "@jupyter-widgets/controls",
            "_model_module_version": "1.5.0",
            "_model_name": "ProgressStyleModel",
            "_view_count": null,
            "_view_module": "@jupyter-widgets/base",
            "_view_module_version": "1.2.0",
            "_view_name": "StyleView",
            "bar_color": null,
            "description_width": ""
          }
        },
        "fd13e46a5ffa4e9393fa43f5de3330c8": {
          "model_module": "@jupyter-widgets/base",
          "model_name": "LayoutModel",
          "model_module_version": "1.2.0",
          "state": {
            "_model_module": "@jupyter-widgets/base",
            "_model_module_version": "1.2.0",
            "_model_name": "LayoutModel",
            "_view_count": null,
            "_view_module": "@jupyter-widgets/base",
            "_view_module_version": "1.2.0",
            "_view_name": "LayoutView",
            "align_content": null,
            "align_items": null,
            "align_self": null,
            "border": null,
            "bottom": null,
            "display": null,
            "flex": null,
            "flex_flow": null,
            "grid_area": null,
            "grid_auto_columns": null,
            "grid_auto_flow": null,
            "grid_auto_rows": null,
            "grid_column": null,
            "grid_gap": null,
            "grid_row": null,
            "grid_template_areas": null,
            "grid_template_columns": null,
            "grid_template_rows": null,
            "height": null,
            "justify_content": null,
            "justify_items": null,
            "left": null,
            "margin": null,
            "max_height": null,
            "max_width": null,
            "min_height": null,
            "min_width": null,
            "object_fit": null,
            "object_position": null,
            "order": null,
            "overflow": null,
            "overflow_x": null,
            "overflow_y": null,
            "padding": null,
            "right": null,
            "top": null,
            "visibility": null,
            "width": null
          }
        },
        "27076055642a4bffa4dc7aa2b8cd50a9": {
          "model_module": "@jupyter-widgets/controls",
          "model_name": "DescriptionStyleModel",
          "model_module_version": "1.5.0",
          "state": {
            "_model_module": "@jupyter-widgets/controls",
            "_model_module_version": "1.5.0",
            "_model_name": "DescriptionStyleModel",
            "_view_count": null,
            "_view_module": "@jupyter-widgets/base",
            "_view_module_version": "1.2.0",
            "_view_name": "StyleView",
            "description_width": ""
          }
        }
      }
    }
  },
  "nbformat": 4,
  "nbformat_minor": 5
}